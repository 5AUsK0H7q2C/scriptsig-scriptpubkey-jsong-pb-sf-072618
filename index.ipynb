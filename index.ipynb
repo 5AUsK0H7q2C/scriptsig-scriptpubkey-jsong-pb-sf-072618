{
 "cells": [
  {
   "cell_type": "markdown",
   "metadata": {},
   "source": [
    "# Working with the Parser"
   ]
  },
  {
   "cell_type": "markdown",
   "metadata": {},
   "source": [
    "### Try it\n",
    "\n",
    "#### What is the scriptSig from the second input in this tx?\n",
    "#### What is the scriptPubKey and amount of the first output in this tx?\n",
    "#### What is the amount for the second output?\n",
    "\n",
    "```\n",
    "010000000456919960ac691763688d3d3bcea9ad6ecaf875df5339e148a1fc61c6ed7a069e010000006a47304402204585bcdef85e6b1c6af5c2669d4830ff86e42dd205c0e089bc2a821657e951c002201024a10366077f87d6bce1f7100ad8cfa8a064b39d4e8fe4ea13a7b71aa8180f012102f0da57e85eec2934a82a585ea337ce2f4998b50ae699dd79f5880e253dafafb7feffffffeb8f51f4038dc17e6313cf831d4f02281c2a468bde0fafd37f1bf882729e7fd3000000006a47304402207899531a52d59a6de200179928ca900254a36b8dff8bb75f5f5d71b1cdc26125022008b422690b8461cb52c3cc30330b23d574351872b7c361e9aae3649071c1a7160121035d5c93d9ac96881f19ba1f686f15f009ded7c62efe85a872e6a19b43c15a2937feffffff567bf40595119d1bb8a3037c356efd56170b64cbcc160fb028fa10704b45d775000000006a47304402204c7c7818424c7f7911da6cddc59655a70af1cb5eaf17c69dadbfc74ffa0b662f02207599e08bc8023693ad4e9527dc42c34210f7a7d1d1ddfc8492b654a11e7620a0012102158b46fbdff65d0172b7989aec8850aa0dae49abfb84c81ae6e5b251a58ace5cfeffffffd63a5e6c16e620f86f375925b21cabaf736c779f88fd04dcad51d26690f7f345010000006a47304402200633ea0d3314bea0d95b3cd8dadb2ef79ea8331ffe1e61f762c0f6daea0fabde022029f23b3e9c30f080446150b23852028751635dcee2be669c2a1686a4b5edf304012103ffd6f4a67e94aba353a00882e563ff2722eb4cff0ad6006e86ee20dfe7520d55feffffff0251430f00000000001976a914ab0c0b2e98b1ab6dbf67d4750b0a56244948a87988ac005a6202000000001976a9143c82d7df364eb6c75be8c80df2b3eda8db57397088ac46430600\n",
    "```"
   ]
  },
  {
   "cell_type": "code",
   "execution_count": 3,
   "metadata": {},
   "outputs": [
    {
     "ename": "TypeError",
     "evalue": "__init__() missing 3 required positional arguments: 'tx_ins', 'tx_outs', and 'locktime'",
     "output_type": "error",
     "traceback": [
      "\u001b[0;31m\u001b[0m",
      "\u001b[0;31mTypeError\u001b[0mTraceback (most recent call last)",
      "\u001b[0;32m<ipython-input-3-33e3edb89498>\u001b[0m in \u001b[0;36m<module>\u001b[0;34m()\u001b[0m\n\u001b[1;32m      9\u001b[0m \u001b[0;31m# create a stream using BytesIO()\u001b[0m\u001b[0;34m\u001b[0m\u001b[0;34m\u001b[0m\u001b[0m\n\u001b[1;32m     10\u001b[0m \u001b[0;31m# parse from tx\u001b[0m\u001b[0;34m\u001b[0m\u001b[0;34m\u001b[0m\u001b[0m\n\u001b[0;32m---> 11\u001b[0;31m \u001b[0mtransaction\u001b[0m \u001b[0;34m=\u001b[0m \u001b[0mTx\u001b[0m\u001b[0;34m(\u001b[0m\u001b[0mb_stream_tx\u001b[0m\u001b[0;34m)\u001b[0m\u001b[0;34m\u001b[0m\u001b[0m\n\u001b[0m\u001b[1;32m     12\u001b[0m \u001b[0;31m# print tx's second input's scriptSig\u001b[0m\u001b[0;34m\u001b[0m\u001b[0;34m\u001b[0m\u001b[0m\n\u001b[1;32m     13\u001b[0m \u001b[0;31m# print tx's first output's scriptPubKey\u001b[0m\u001b[0;34m\u001b[0m\u001b[0;34m\u001b[0m\u001b[0m\n",
      "\u001b[0;31mTypeError\u001b[0m: __init__() missing 3 required positional arguments: 'tx_ins', 'tx_outs', and 'locktime'"
     ]
    }
   ],
   "source": [
    "from io import BytesIO\n",
    "from tx import Tx\n",
    "\n",
    "hex_transaction = '010000000456919960ac691763688d3d3bcea9ad6ecaf875df5339e148a1fc61c6ed7a069e010000006a47304402204585bcdef85e6b1c6af5c2669d4830ff86e42dd205c0e089bc2a821657e951c002201024a10366077f87d6bce1f7100ad8cfa8a064b39d4e8fe4ea13a7b71aa8180f012102f0da57e85eec2934a82a585ea337ce2f4998b50ae699dd79f5880e253dafafb7feffffffeb8f51f4038dc17e6313cf831d4f02281c2a468bde0fafd37f1bf882729e7fd3000000006a47304402207899531a52d59a6de200179928ca900254a36b8dff8bb75f5f5d71b1cdc26125022008b422690b8461cb52c3cc30330b23d574351872b7c361e9aae3649071c1a7160121035d5c93d9ac96881f19ba1f686f15f009ded7c62efe85a872e6a19b43c15a2937feffffff567bf40595119d1bb8a3037c356efd56170b64cbcc160fb028fa10704b45d775000000006a47304402204c7c7818424c7f7911da6cddc59655a70af1cb5eaf17c69dadbfc74ffa0b662f02207599e08bc8023693ad4e9527dc42c34210f7a7d1d1ddfc8492b654a11e7620a0012102158b46fbdff65d0172b7989aec8850aa0dae49abfb84c81ae6e5b251a58ace5cfeffffffd63a5e6c16e620f86f375925b21cabaf736c779f88fd04dcad51d26690f7f345010000006a47304402200633ea0d3314bea0d95b3cd8dadb2ef79ea8331ffe1e61f762c0f6daea0fabde022029f23b3e9c30f080446150b23852028751635dcee2be669c2a1686a4b5edf304012103ffd6f4a67e94aba353a00882e563ff2722eb4cff0ad6006e86ee20dfe7520d55feffffff0251430f00000000001976a914ab0c0b2e98b1ab6dbf67d4750b0a56244948a87988ac005a6202000000001976a9143c82d7df364eb6c75be8c80df2b3eda8db57397088ac46430600'\n",
    "\n",
    "# bytes.fromhex to get the binary representation\n",
    "b_hex_tx = bytes.fromhex(hex_transaction)\n",
    "b_stream_tx = BytesIO(b_hex_tx)\n",
    "# create a stream using BytesIO()\n",
    "# parse from tx\n",
    "tx_ins = TxIn\n",
    "transaction = Tx(b_stream_tx)\n",
    "# print tx's second input's scriptSig\n",
    "# print tx's first output's scriptPubKey\n",
    "# print tx's first output's amount"
   ]
  },
  {
   "cell_type": "code",
   "execution_count": 2,
   "metadata": {},
   "outputs": [
    {
     "data": {
      "text/plain": [
       "b'\\x01\\x00\\x00\\x00\\x04V\\x91\\x99`\\xaci\\x17ch\\x8d=;\\xce\\xa9\\xadn\\xca\\xf8u\\xdfS9\\xe1H\\xa1\\xfca\\xc6\\xedz\\x06\\x9e\\x01\\x00\\x00\\x00jG0D\\x02 E\\x85\\xbc\\xde\\xf8^k\\x1cj\\xf5\\xc2f\\x9dH0\\xff\\x86\\xe4-\\xd2\\x05\\xc0\\xe0\\x89\\xbc*\\x82\\x16W\\xe9Q\\xc0\\x02 \\x10$\\xa1\\x03f\\x07\\x7f\\x87\\xd6\\xbc\\xe1\\xf7\\x10\\n\\xd8\\xcf\\xa8\\xa0d\\xb3\\x9dN\\x8f\\xe4\\xea\\x13\\xa7\\xb7\\x1a\\xa8\\x18\\x0f\\x01!\\x02\\xf0\\xdaW\\xe8^\\xec)4\\xa8*X^\\xa37\\xce/I\\x98\\xb5\\n\\xe6\\x99\\xddy\\xf5\\x88\\x0e%=\\xaf\\xaf\\xb7\\xfe\\xff\\xff\\xff\\xeb\\x8fQ\\xf4\\x03\\x8d\\xc1~c\\x13\\xcf\\x83\\x1dO\\x02(\\x1c*F\\x8b\\xde\\x0f\\xaf\\xd3\\x7f\\x1b\\xf8\\x82r\\x9e\\x7f\\xd3\\x00\\x00\\x00\\x00jG0D\\x02 x\\x99S\\x1aR\\xd5\\x9am\\xe2\\x00\\x17\\x99(\\xca\\x90\\x02T\\xa3k\\x8d\\xff\\x8b\\xb7__]q\\xb1\\xcd\\xc2a%\\x02 \\x08\\xb4\"i\\x0b\\x84a\\xcbR\\xc3\\xcc03\\x0b#\\xd5t5\\x18r\\xb7\\xc3a\\xe9\\xaa\\xe3d\\x90q\\xc1\\xa7\\x16\\x01!\\x03]\\\\\\x93\\xd9\\xac\\x96\\x88\\x1f\\x19\\xba\\x1fho\\x15\\xf0\\t\\xde\\xd7\\xc6.\\xfe\\x85\\xa8r\\xe6\\xa1\\x9bC\\xc1Z)7\\xfe\\xff\\xff\\xffV{\\xf4\\x05\\x95\\x11\\x9d\\x1b\\xb8\\xa3\\x03|5n\\xfdV\\x17\\x0bd\\xcb\\xcc\\x16\\x0f\\xb0(\\xfa\\x10pKE\\xd7u\\x00\\x00\\x00\\x00jG0D\\x02 L|x\\x18BL\\x7fy\\x11\\xdal\\xdd\\xc5\\x96U\\xa7\\n\\xf1\\xcb^\\xaf\\x17\\xc6\\x9d\\xad\\xbf\\xc7O\\xfa\\x0bf/\\x02 u\\x99\\xe0\\x8b\\xc8\\x026\\x93\\xadN\\x95\\'\\xdcB\\xc3B\\x10\\xf7\\xa7\\xd1\\xd1\\xdd\\xfc\\x84\\x92\\xb6T\\xa1\\x1ev \\xa0\\x01!\\x02\\x15\\x8bF\\xfb\\xdf\\xf6]\\x01r\\xb7\\x98\\x9a\\xec\\x88P\\xaa\\r\\xaeI\\xab\\xfb\\x84\\xc8\\x1a\\xe6\\xe5\\xb2Q\\xa5\\x8a\\xce\\\\\\xfe\\xff\\xff\\xff\\xd6:^l\\x16\\xe6 \\xf8o7Y%\\xb2\\x1c\\xab\\xafslw\\x9f\\x88\\xfd\\x04\\xdc\\xadQ\\xd2f\\x90\\xf7\\xf3E\\x01\\x00\\x00\\x00jG0D\\x02 \\x063\\xea\\r3\\x14\\xbe\\xa0\\xd9[<\\xd8\\xda\\xdb.\\xf7\\x9e\\xa83\\x1f\\xfe\\x1ea\\xf7b\\xc0\\xf6\\xda\\xea\\x0f\\xab\\xde\\x02 )\\xf2;>\\x9c0\\xf0\\x80DaP\\xb28R\\x02\\x87Qc]\\xce\\xe2\\xbef\\x9c*\\x16\\x86\\xa4\\xb5\\xed\\xf3\\x04\\x01!\\x03\\xff\\xd6\\xf4\\xa6~\\x94\\xab\\xa3S\\xa0\\x08\\x82\\xe5c\\xff\\'\"\\xebL\\xff\\n\\xd6\\x00n\\x86\\xee \\xdf\\xe7R\\rU\\xfe\\xff\\xff\\xff\\x02QC\\x0f\\x00\\x00\\x00\\x00\\x00\\x19v\\xa9\\x14\\xab\\x0c\\x0b.\\x98\\xb1\\xabm\\xbfg\\xd4u\\x0b\\nV$IH\\xa8y\\x88\\xac\\x00Zb\\x02\\x00\\x00\\x00\\x00\\x19v\\xa9\\x14<\\x82\\xd7\\xdf6N\\xb6\\xc7[\\xe8\\xc8\\r\\xf2\\xb3\\xed\\xa8\\xdbW9p\\x88\\xacFC\\x06\\x00'"
      ]
     },
     "execution_count": 2,
     "metadata": {},
     "output_type": "execute_result"
    }
   ],
   "source": [
    "b_hex_tx"
   ]
  },
  {
   "cell_type": "code",
   "execution_count": null,
   "metadata": {},
   "outputs": [],
   "source": []
  }
 ],
 "metadata": {
  "kernelspec": {
   "display_name": "Python 3",
   "language": "python",
   "name": "python3"
  },
  "language_info": {
   "codemirror_mode": {
    "name": "ipython",
    "version": 3
   },
   "file_extension": ".py",
   "mimetype": "text/x-python",
   "name": "python",
   "nbconvert_exporter": "python",
   "pygments_lexer": "ipython3",
   "version": "3.6.4"
  }
 },
 "nbformat": 4,
 "nbformat_minor": 2
}
